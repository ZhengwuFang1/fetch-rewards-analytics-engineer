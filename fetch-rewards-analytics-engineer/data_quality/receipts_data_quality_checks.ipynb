import pandas as pd

receipts = pd.read_json("receipts.json")
users = pd.read_json("users.json")
brands = pd.read_json("brands.json")

# Top-level null counts
print("Receipts nulls:")
print(receipts.isnull().sum())

# Explore nested item list
item_records = []
for _, row in receipts.iterrows():
    if isinstance(row.get("rewardsReceiptItemList"), list):
        for item in row["rewardsReceiptItemList"]:
            item["receipt_id"] = row["_id"]["$oid"]
            item_records.append(item)

items_df = pd.DataFrame(item_records)

# Check for null barcodes and prices
print("Null barcodes or prices in items:")
print(items_df[items_df["barcode"].isnull() | (items_df["finalPrice"] <= 0)])

# Invalid receipt statuses
print("Unique statuses:", receipts["rewardsReceiptStatus"].unique())
